{
 "cells": [
  {
   "cell_type": "markdown",
   "id": "67ae21a5",
   "metadata": {},
   "source": [
    "# Objectives\n",
    "- Learn how to browse Web 3 \n",
    "- Walkthrough prominent dApps, understand services offered\n",
    "- Preview of labs in this course\n",
    "- Have you setup the in-browser wallet MetaMask\n",
    "- Learn about seed phrases, private keys, public keys, wallet address while doing so interactively\n",
    "- Show how to find your wallet address, send/receiver tokens, and track those transactions through chain watchers"
   ]
  },
  {
   "cell_type": "markdown",
   "id": "b475c8af",
   "metadata": {},
   "source": [
    "# Browsing Web3\n",
    "\n",
    "Browsing is the most basic functionality one is familiar with on Web 2. It allows us to explore and interact with websites and follow links. Similarly, we look at ways to browse Web 3.\n",
    "\n",
    "\n",
    "## [Etherscan](https://etherscan.io/)\n",
    "- Etherscan allows us to to browse at the most granular level. We can see each transaction submitted and the entities it interacts with and all tokens and operations involved.\n",
    "\n",
    "## [MEV-explore](https://explore.flashbots.net/)\n",
    "- MEV is a measure of how much value can be extracted by manipulating transaction order or by inserting/removing transactions, while playing by the protocol rules. This has been identified as a strong \"centralizing force\" in DeFi. MEV-Explore allows us to measure that and other related statistics on the Ethereum blockchain.\n",
    "\n",
    "## [Defillama](https://defillama.com/)\n",
    "- Defillama is one of many websites that has live dashboards displaying collated data on token prices, value locked and various application specific measures. \n",
    "\n",
    "## [Dune](https://dune.com/home)\n",
    "- Because a blockchain is public, sites such as defillama can be created by anyone without privileged access to data. Dune is one such website that allows any user to create a customised dashboard to display collated data."
   ]
  },
  {
   "cell_type": "markdown",
   "id": "bba52d6e",
   "metadata": {},
   "source": [
    "# Apps on Web3\n",
    "\n",
    "Let us now walk through prominent applications whose functions constitute the \"elements\" of decentralized finance.\n",
    "## Uniswap\n",
    "\n",
    "[Uniswap](https://app.uniswap.org/#/swap) is a decentralized exchange. It is primarily used to swap tokens by traders, and to earn trading fees by liquidity providers. Many liquidity providers pool their assets together and these are used by traders to buy and sell tokens.\n",
    "\n",
    "- How is Uniswap different from a traditional exchange like NYSE ?\n"
   ]
  },
  {
   "cell_type": "markdown",
   "id": "a74a87d0",
   "metadata": {},
   "source": [
    "## OpenSea\n",
    "\n",
    "[OpenSea](https://opensea.io/) is an NFT exchange.\n",
    "\n",
    "## Aave\n",
    "\n",
    "[Aave](https://app.aave.com/) is a borrow-lending protocol.\n",
    "\n",
    "- What are the actions one can perform on Aave?\n",
    "- What tokens can be borrowed? What are the requirements for borrowing?\n",
    "\n",
    "## Chainlink\n",
    "\n",
    "[Chainlink](https://data.chain.link/) is an oracle service that posts real-time price data on chain.\n",
    "\n",
    "- What data feeds are available? When are they updated?\n",
    "- Where might these be useful?\n",
    "\n",
    "## dYdX\n",
    "[dYdX](https://dydx.exchange/) is a decentralized exchange (DEX) platform that offers perpetual trading options for over 35 popular cryptocurrencies including Bitcoin (BTC), Ether (ETH), Dogecoin (DOGE) and Cardano (ADA).\n",
    "\n",
    "\n",
    "## Snapshot\n",
    "\n",
    "[Snapshot](https://snapshot.org/#/) is a blockchain used to track and vot on governance proposals for various protocols.\n",
    "\n",
    "- How does a proposal look like? \n",
    "- What does a proposal typically decide? Is it truly decentralized?"
   ]
  },
  {
   "cell_type": "markdown",
   "id": "e5d0c086",
   "metadata": {},
   "source": [
    "# Lab preview\n",
    "\n",
    "- *Week 1* : Setup wallet, get tokens for later use in labs. Perform basic actions with wallets and track transactions.\n",
    "- *Week 2* : Interact with smart contracts using web3.py library. Use that to perform atomic transactions - hotel and train booking problem.\n",
    "- *Week 3* : Interact with a DEX as a trader and as LP. Perform atomic swaps across different DEXes and pools.\n",
    "- *Week 4* : Interact with Flashbots - a service used to avoid getting MEV'ed. Evaluate what being a liquidity provider means.\n",
    "- *Week 5* : Interact with on-chain oracles and see how they might be manipulated.\n",
    "- *Week 6* : Creating a borrow/lending position, checking for liquidations and performing flashloans to do arbitrage.\n",
    "- *Week 7* : Interacting with cross-chain bridges.\n",
    "- *Week 8* : Get stablecoins by posting collateral, getting exposure to offchain assets via synthetics.\n",
    "- *Week 9* : Minting and trading NFTs.\n",
    "- *Week 10* : Interacting with Governance proposals and liquid staking protocols."
   ]
  },
  {
   "cell_type": "markdown",
   "id": "04dfe175",
   "metadata": {},
   "source": [
    "\n",
    "# Setup MetaMask\n",
    "\n",
    "\n",
    "- Open your web browser (Chrome, Firefox, Edge) and go to the [MetaMask website](https://metamask.io/).\n",
    "\n",
    "- Click the \"Download for\" button to install the MetaMask extension for your browser.\n",
    "\n",
    "- Follow the prompts to install the extension. Once it is installed, you will see the MetaMask icon appear in the top right corner of your browser.\n",
    "\n",
    "- Click on the MetaMask icon to open the extension. After you agree to their terms, you will be prompted to create a new wallet or import an existing one. For this lab, we will create a new wallet.\n",
    "\n",
    "- Click \"Create a Wallet\". You will be asked to create a password for your wallet. Choose a strong, unique password and make sure to remember it.\n",
    "\n",
    "- MetaMask will then generate a \"secret recovery phrase\" for you. This phrase is a series of words that can be used to restore your wallet if you ever lose access to it. It is important to keep this safe and secure, as anyone who has access to it will be able to access your wallet.\n",
    "\n",
    "- Write down the phrase and store it in a safe place. You will be asked to confirm that you have written it down by selecting the words in the correct order.\n",
    "\n",
    "- Once you have written down and confirmed your seed phrase, you will be taken to the main MetaMask screen. Here, you will see your \"account address\", which is a long hexadecimal string that serves as your unique wallet address. This is the address that you will use to receive tokens.\n",
    "# Connect to the Sepolia testnet\n",
    "\n",
    "- Next, we will connect MetaMask to the Sepolia testnet. In the top left corner of the MetaMask screen, click on the current network (it should say \"Ethereum Mainnet\"). A dropdown menu will appear.\n",
    "\n",
    "- From the dropdown menu, go to the \"Show/Hide testnet\" settings and enable it to show testnets.\n",
    "\n",
    "- Go back to the dropdown menu, and select \"[Sepolia Testnet]\"\n",
    "# Get ETH tokens\n",
    "\n",
    "- Now, we get ETH tokens from the [Sepolia faucet](https://sepoliafaucet.com/).\n",
    "\n",
    "- Go to the linked website and make a free [Alchemy](https://www.alchemy.com/) account.\n",
    "\n",
    "- Enter your MetaMask address into the faucet and obtain the tokens. You should see the updated balance reflected in your wallet after a few seconds.\n",
    "# Sending tokens\n",
    "\n",
    "- To test that everything is working, we will send some test tokens to other wallets. \n",
    "\n",
    "- To send tokens, click on the \"Send\" button. Enter the recipient's wallet address and the amount of tokens you want to send. The recipient can be the person sitting next to you. Alternatively, you can create another MetaMask address through the \"Create Account\" option you get after clicking the logo in the right hand corner of the MetaMask wallet.\n",
    "\n",
    "- Click \"Send\". MetaMask will prompt you to confirm the transaction. Click \"Confirm\" to complete the transaction.\n",
    "# Tracking transactions\n",
    "\n",
    "- Go to the [Etherscan](https://sepolia.etherscan.io/) website.\n",
    "\n",
    "- In the search field, enter the transaction hash for the send transaction you want to track. \n",
    "\n",
    "- You can find the transaction hash in the \"Activity\" tab in your MetaMask.\n",
    "\n",
    "- Click \"Search\". Etherscan will display the details of the transaction, including the amount of tokens sent, the sender's and recipient's wallet addresses, and the status of the transaction.\n",
    "\n",
    "No coding is required for this lab\n"
   ]
  },
  {
   "cell_type": "code",
   "execution_count": null,
   "id": "9097ef90",
   "metadata": {},
   "outputs": [],
   "source": []
  }
 ],
 "metadata": {
  "kernelspec": {
   "display_name": "Python 3 (ipykernel)",
   "language": "python",
   "name": "python3"
  },
  "language_info": {
   "codemirror_mode": {
    "name": "ipython",
    "version": 3
   },
   "file_extension": ".py",
   "mimetype": "text/x-python",
   "name": "python",
   "nbconvert_exporter": "python",
   "pygments_lexer": "ipython3",
   "version": "3.9.13"
  }
 },
 "nbformat": 4,
 "nbformat_minor": 5
}
