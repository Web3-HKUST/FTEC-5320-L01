{
 "cells": [
  {
   "cell_type": "markdown",
   "metadata": {},
   "source": [
    "# Perpetuals\n",
    "\n",
    "**So What is a Perpetual?**\n",
    "\n",
    "You can think of a Perpetual as a synthetic asset, that tracks the price of an underlying asset. This synthetic asset is created by two sides of the market which are either long - expecting it to go up - or short - expecting it to go down. Within each position, market participants are basically agreeing to buy or sell the asset in the future **at the price of the asset, at the time they acquired the long or short perpetual**. Now if the price goes up, people who agreed to buy it will profit because they have an agreement to buy it for cheaper than the market price, and the same holds vice versa. Oh and one more thing, since you are just agreeing to hypothetically buy or sell the asset in the future, you don't actually have to put up any money to buy it, all you have to put up is some amount of collateral, so that if your position is losing money the protocol has your collateral to pay for your losses, if you lose the value of all of your collateral below some limit defined by the protocol, your position gets liquidated, i.e. the protocol takes your collateral to pay the winners and then sells your position to someone who can put up fresh collateral.\n",
    "\n",
    "**So how does someone actually profit - or lose money - from a perpetual?**\n",
    "\n",
    "When they want to close their position, they just sell this long or short perpetual they aquired and will get their profit. If everything is working correctly, they should be able to sell this contract for a profit or loss that corresponds with how they would do if they held the underlying asset. On different protocols \"selling\" the position can mean selling it on an order book, to an AMM or just getting compensated for their profits to a liquidity pool.  \n",
    "\n",
    "**How can a protocol ensure that the price of the perpetual will track the underlying asset?**\n",
    "\n",
    "Afterall, traders may have a general sentiment, for example that the market is pumping and people expect it will go up a lot, people may be willing to pay more for a long perpetual than what the value should be based on the underlying asset price. To make sure that the price doesn't deviate from the underlying asset price, which is necessary to make this whole thing work, traditional perpetual protocols have a funding rate mechanism that charges periodic fees on the overvalued positions and pays those out to the undervalued positiions. This counteracts the market sentiment and drives the price associated with the perpetual to match that of the underlying asset.\n",
    "\n",
    "This may all be a little confusing because of the terminology used. Here when we say \"the price of the perpetual will track the underlying asset\" what we really mean is that the profits you will make from selling this contract you have will corespond to the profits you would make if you were just buying and selling x amount of the underlying asset, where x is your leveraged position.\n",
    "\n",
    "**Recap**\n",
    "\n",
    "That was a lot. Let's recap this quickly:\n",
    "\n",
    "*   Perpetuals are synthetic assets that allow you to bet on the future price of an underlying asset.\n",
    "*   Perpetuals track the value of the underlying asset through a funding rate mechanism that keeps demand of short and long positions balanced.\n",
    "*   Because perpetuals do not require the purchase or sale of the underlying asset - except for settlement purposes - you can buy a very big position with a small amount of colateral. You just might get wiped out quickly.\n",
    "\n",
    "Because you are agreeing to buy and sell in the future, perpetuals are considered a futures contract. However, where traditional futures contracts have expiry dates where something has to be exchanged for something, perpetual contracts do not and will last as long as you hold and don't get liquidated.\n",
    "\n",
    "## DyDx Testnet Trading Compitition\n",
    "\n",
    "DyDx is a margin trading protocol that operates on Layer 2 (not directly on the Ethereum blockchain). Thus, transactions we would do on this platform would not appear directly on Etherscan, however, the protocol posts \"zero-knowledge proofs\" that the transactions have been executed correctly on the chain. We may see what ZK-proofs are in a later lecture.\n",
    "\n",
    "This lab we are going to have a small trading competition on dydx. For this activity you need to get in groups of up to four people. The trading only should be completed by one member of the group. Now follow these instructions:\n",
    "\n",
    "- Go to the DyDx platform [website](https://trade.stage.dydx.exchange/portfolio/overview).\n",
    "- Connect your wallet by providing your signature, this authorizes the DyDx trading API to interact with your wallet.\n",
    "- Your portfolio would now have test funds of USD 2000 in the DyDx account.\n",
    "- Deposit 5 times to make sure your account have 10000 USD.\n",
    "- On the mainnet, this done by depositing USDC to the DyDx smart contract. Equal number of USD are minted on the DyDx Layer 2.\n",
    "- Go to the \"Trade\" tab on this website. You can use some orders to trade.\n",
    "- For competition, click the `ETH-USD` on the top left corner of this page to change the pairs, you can choose `Solana`, `Ethereum`, `Near`, `Bitcoin` and `Chainlink`. Your target is to maximize your return by trading these 5 kinds of assets via different orders. For overall information about your account, go to the \"Portfolio\" tab on this website."
   ]
  },
  {
   "cell_type": "markdown",
   "metadata": {},
   "source": []
  }
 ],
 "metadata": {
  "language_info": {
   "name": "python"
  }
 },
 "nbformat": 4,
 "nbformat_minor": 2
}
