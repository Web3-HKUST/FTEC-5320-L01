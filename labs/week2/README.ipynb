{
 "cells": [
  {
   "cell_type": "markdown",
   "id": "61ed042f",
   "metadata": {},
   "source": [
    "# Objectives \n",
    "\n",
    "- Familiarization with smart contarcts \n",
    "- Step through OPCODE level execution of a transaction\n",
    "- Familiarize and set up web3 library and wallet APIs \n",
    "- Interacting with an ERC20 token\n",
    "- Interacting with a contract using Etherscan\n",
    "- Importing ERC20 tokens on Metamask\n",
    "- Interacting atomically with two Dapps\n",
    "\n",
    "\n",
    "\n",
    "# Walkthrough smart contract\n",
    "\n",
    "We have deployed smart contracts for the ERC20 tokens on the Sepolia testnet. The contracts can be found on etherscan here: [USTHKD](https://sepolia.etherscan.io/address/0x64b6f44862e8800ebd63cd7f1319c8bf0bc1bb99), [USTETH](https://sepolia.etherscan.io/address/0xd10a9ec6e827b13cf399fcc7e6424f233e99562a). Let us now go through the contract and describe what each ```function``` does."
   ]
  },
  {
   "cell_type": "markdown",
   "id": "85c31293",
   "metadata": {},
   "source": [
    "### What does ```balanceOf``` and ```totalSupply``` do?"
   ]
  },
  {
   "cell_type": "markdown",
   "id": "3219d366",
   "metadata": {},
   "source": [
    "### What does ```transfer``` and ```transferFrom``` do ? Which of them needs you to run ```approve``` before it executes correctly ?"
   ]
  },
  {
   "cell_type": "markdown",
   "id": "480a12d5",
   "metadata": {},
   "source": [
    "### What events can be emitted by the contract ? [What is their use](https://consensys.net/blog/developers/guide-to-events-and-logs-in-ethereum-smart-contracts/) ? "
   ]
  },
  {
   "cell_type": "markdown",
   "id": "68bf8ab5",
   "metadata": {},
   "source": [
    "### How does the contract respond to airdrop requests ?"
   ]
  },
  {
   "cell_type": "markdown",
   "id": "2653816a",
   "metadata": {},
   "source": [
    "# Requesting tokens\n",
    "\n",
    "To request the tokens we shall be using in the future for some in-class labs, we are going to use the ```web3``` library in python. The installation instructions can be found [here](https://web3py.readthedocs.io/en/v5/quickstart.html). We will view our transactions on the [Sepolia testnet etherscan](https://sepolia.etherscan.io/). \n",
    "\n",
    "We now send a transaction that uses this API to request some of the Lab ERC20 tokens from a [faucet contract](https://sepolia.etherscan.io/address/0x1bc75ae4fbd3e100717bb15661764b13667ef7ac). The faucet allows each registered wallet to redeem a fixed number of tokens per day. The code used to do that has to be written below.\n",
    "\n",
    "### Setup Web3 API\n",
    "First, we connect your wallet to a Web3 API - this is a service that connects you to the Ethereum blockchain via a simple URL. \n",
    "\n",
    "To do that, first create a free account on [Infura](https://app.infura.io/register)(using any email ID).\n",
    "\n",
    "Once you log in, you would see your Infura API key under the project name you had given. Use that key in the following code."
   ]
  },
  {
   "cell_type": "code",
   "execution_count": 1,
   "id": "0b9e0658",
   "metadata": {},
   "outputs": [
    {
     "name": "stdout",
     "output_type": "stream",
     "text": [
      "5013273\n",
      "{'manager': <web3.manager.RequestManager object at 0x000002122CACB5D0>, 'codec': <eth_abi.codec.ABICodec object at 0x000002122F883F50>, 'eth': <web3.eth.eth.Eth object at 0x000002122CAA2010>, 'net': <web3.net.Net object at 0x000002122CAC9B50>, 'geth': <web3.geth.Geth object at 0x000002122CAB0FD0>, 'tracing': <web3.tracing.Tracing object at 0x000002122F881A90>, 'testing': <web3.testing.Testing object at 0x000002122F881990>, '_ens': <web3._utils.empty.Empty object at 0x000002122CF6CE90>}\n"
     ]
    }
   ],
   "source": [
    "# Import web3\n",
    "from web3 import Web3\n",
    "from datetime import datetime, timedelta\n",
    "\n",
    "w3 = Web3(Web3.HTTPProvider('https://sepolia.infura.io/v3/your-infura-key'))\n",
    "\n",
    "print(w3.eth.block_number) #Check if the notebook is connected to the Infura node\n",
    "print(w3.__dict__)"
   ]
  },
  {
   "cell_type": "markdown",
   "id": "c8e14ac7",
   "metadata": {},
   "source": [
    "### Setup your ETH account details"
   ]
  },
  {
   "cell_type": "code",
   "execution_count": 2,
   "id": "f31fc1f5",
   "metadata": {},
   "outputs": [],
   "source": [
    " # Wallet details\n",
    "\n",
    "public_address = Web3.to_checksum_address('your-sepolia-address') # see metamask for this\n",
    "private_key = 'your-private-key' # see metamask for this"
   ]
  },
  {
   "cell_type": "markdown",
   "id": "368012e5",
   "metadata": {},
   "source": [
    "### Set up a contract instance\n",
    "Now, we send a request transaction to the faucet, signed by your private key."
   ]
  },
  {
   "cell_type": "code",
   "execution_count": 20,
   "id": "698888f4",
   "metadata": {},
   "outputs": [],
   "source": [
    "# Define the USTFaucet contract to connect to\n",
    "\n",
    "contract_addr = Web3.to_checksum_address('faucet-contract-address')\n",
    "abi_contract = '[contract-abi-info]'\n",
    "contract = w3.eth.contract(contract_addr, abi=abi_contract)\n",
    "\n",
    "# Define the address of the ERC20 token you want\n",
    "\n",
    "token_addr = Web3.to_checksum_address('the-token-address')"
   ]
  },
  {
   "cell_type": "markdown",
   "id": "a56d0912",
   "metadata": {},
   "source": [
    "### Create transaction data"
   ]
  },
  {
   "cell_type": "code",
   "execution_count": 21,
   "id": "8c4473b7",
   "metadata": {},
   "outputs": [],
   "source": [
    "### Create transaction data\n",
    "txn = contract.functions.requestTokens(token_addr).build_transaction(\n",
    "    {\n",
    "        'nonce':w3.eth.get_transaction_count(public_address),\n",
    "        'from':public_address,\n",
    "    }\n",
    ")"
   ]
  },
  {
   "cell_type": "markdown",
   "id": "0af79c39",
   "metadata": {},
   "source": [
    "### Sign and post transaction\n",
    "You should see the hash of your transaction printed."
   ]
  },
  {
   "cell_type": "code",
   "execution_count": 22,
   "id": "c089ce13",
   "metadata": {},
   "outputs": [
    {
     "name": "stdout",
     "output_type": "stream",
     "text": [
      "Hash of swap transaction :  0xc05f0bbe50051d4e006861d72ff9c80fc37a4c353d649d6271f27f0a39e879c6\n"
     ]
    }
   ],
   "source": [
    "# Post transaction\n",
    "\n",
    "signed_txn = w3.eth.account.sign_transaction(txn, private_key) # Sign the txn with your private key \n",
    "txn_hash = w3.eth.send_raw_transaction(signed_txn.rawTransaction) # Send it onto the chain\n",
    "print(\"Hash of swap transaction : \",w3.to_hex(txn_hash)) # Search the txn hash on etherscan to see if it got confirmed"
   ]
  },
  {
   "cell_type": "markdown",
   "id": "54a3d804",
   "metadata": {},
   "source": [
    "## Alternate: Request tokens through Etherscan\n",
    "\n",
    "Verified contracts on Etherscan allow you to interact with functions on the contract.\n",
    "Open the [USTFaucet](https://sepolia.etherscan.io/address/0x1bc75ae4fbd3e100717bb15661764b13667ef7ac) contract by providing it's address. You can now access the contract's read and write functions.\n",
    "Go to the ``write tab``, connect your metamask wallet and call the ``requestTokens`` function by providing your wallet's public address and the USTETH token's contract address. Confirm the transaciton on the metamask prompt."
   ]
  },
  {
   "cell_type": "markdown",
   "id": "6b81be27",
   "metadata": {},
   "source": [
    "# Add to MetaMask"
   ]
  },
  {
   "cell_type": "markdown",
   "id": "c6a1de90",
   "metadata": {},
   "source": [
    "- The token balances can now be tracked via MetaMask using the contract addresses of each token. \n",
    "- Use the \"Import Tokens\" link at the bottom of your MetaMask. \n",
    "- Enter the smart contract address for an ERC20 tokens we would be using in the class.\n",
    "- Do this for each of the tokens - USTETH and USTHKD"
   ]
  },
  {
   "cell_type": "markdown",
   "id": "60047d2a",
   "metadata": {},
   "source": [
    "\n",
    "\n",
    "\n",
    "# Interacting atomically with two Dapps\n",
    "\n",
    "\n",
    "## Hotel and Flight contracts\n",
    "\n",
    "Assume you are going on a vacation and need to book travel and accommodation. We have created two contracts mimicking a decentralized application for booking accommodation and travel. The hotel reservation contract can be found [here](https://sepolia.etherscan.io/address/0x65A8aa6334A500Da1dA420Bc5E965c55E3BD7f21). Let us go through its main ``bookRoom()`` function\n",
    "\n",
    "- Initial few checks ensure the payment is sufficient and rooms are available at the hotel\n",
    "- The state of the contract is updated to make sure the room is booked in the name of the wallet initiating the transaction calling the function\n",
    "- The last part calculates and disburses a refund if the transaction caller sent more money than the ticket price of `10**10 wei`.\n",
    "- Note that no part of the contract allows for cancellation of the reservation; this Dapp corresponds to a Non-refundable reservation\n",
    "\n",
    "You will now book accommodation for the trip. \n",
    "- Go to the contract on Etherscan, click the write contract tab, and connect your wallet. - - Click the [bookRoom()](https://sepolia.etherscan.io/address/0x65A8aa6334A500Da1dA420Bc5E965c55E3BD7f21#writeContract#F2) tab. \n",
    "- Set the amount of Wei to send as a payment. The required payment is `10000000000 wei` or `0.00000001 ETH` (recommend); you can send more if you want, and the contract will refund it within the same transaction.\n",
    "- Check the status of your reservation by querying `CheckReservations` with your public key\n",
    "\n",
    "Now that we have booked the accommodation, let us book a flight. The flight reservation contract looks similar to the hotel reservation contract with ``bookFlight()`` replacing ``bookRoom()``. You can access the flight reservation contract [here](https://sepolia.etherscan.io/address/0x27dD8de8c733c546FeEa68bE6CeFBFFb7Bb8A219). Perform the same steps as the hotel reservation contract to book a flight ticket. Check the status of the transaction on Etherscan.\n",
    "\n",
    "Notice that the transaciton will fail for some of you since there aren't enough flight tickets available for all class members. This leads to a situation where your hotel reservation is practically useless since there is no way to travel. Is it possible to avoid such a situation: *Book hotel only if the flight is available* and *Book flight only if the hotel is available*? In other words, we want the trip reservation to be atomic - Either book both travel and accommodation or book none. Notice that the Dapps are independent of one another - think of them as two separate travel websites. \n",
    "\n",
    "## Atomic transaction\n",
    "\n",
    "We can perform such transactions easily on blockchains. Note that an ethereum transaction either succeeds or fails and reverts back. Thus, we need to combine ``bookRoom()`` and ``bookFlight()`` into a single transaction. \n",
    "\n",
    "We can do this by launching a smart contract whose one function call will call two of the above hotel and flight contracts. The atomic transaction contract (aka trip reservation contract) can be found [here](https://sepolia.etherscan.io/address/0xa67990332E026b6c4AC71937BbE44207d97c113a). Let us quickly go through the ``bookTrip`` function:\n",
    "- The function takes in 4 arguments - the addresses of Hotel and Flight reservation contracts and their prices\n",
    "- It then calls both the hotel and flight contract \n",
    "- The calls are sequential, however, due to the atomic nature of an Ethereum transaction, the whole ``bookTrip`` transaction will fail if either of the contract calls fails.\n",
    "- The last part disburses any remaining refund.\n",
    "\n",
    "I have refreshed both the hotel and flight contracts, and you will now use the atomic transaction contract to book both atomically:\n",
    "- Go to the contract on Etherscan, click the write contract tab, and connect your wallet. - - Click the [bookTrip](https://sepolia.etherscan.io/address/0xa67990332E026b6c4AC71937BbE44207d97c113a#writeContract#F1) tab. \n",
    "- Set the amount of ETH to send as a payment. The required total payment is `20000000000 wei` or `0.00000002 ETH`; anything extra will be refunded. \n",
    "- Give the contract addresses of the hotel and flight reservation contract; set the price of both to ``10000000000`` wei.\n",
    "- Check the status of the transaction on Etherscan\n",
    "\n",
    "The transaction will succeed for some of you and fail for the rest. Check the status of your booking on the respective contracts. If the atomic transaction failed, you should not have confirmed reservations on both the hotel and flight contracts. "
   ]
  }
 ],
 "metadata": {
  "kernelspec": {
   "display_name": "Python 3 (ipykernel)",
   "language": "python",
   "name": "python3"
  },
  "language_info": {
   "codemirror_mode": {
    "name": "ipython",
    "version": 3
   },
   "file_extension": ".py",
   "mimetype": "text/x-python",
   "name": "python",
   "nbconvert_exporter": "python",
   "pygments_lexer": "ipython3",
   "version": "3.9.13"
  }
 },
 "nbformat": 4,
 "nbformat_minor": 5
}
